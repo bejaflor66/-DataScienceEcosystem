{
 "cells": [
  {
   "cell_type": "markdown",
   "id": "db8fddd5-8d66-4ed8-843f-11f6c2e3b107",
   "metadata": {},
   "source": [
    "# Data Science Tools and Ecosystem"
   ]
  },
  {
   "cell_type": "markdown",
   "id": "f85fae1c-438d-4ce6-a874-f8345f162553",
   "metadata": {},
   "source": [
    "In this notebook, Data Science Tools and Ecosystem are summarized."
   ]
  },
  {
   "cell_type": "markdown",
   "id": "1bec95dd-6a28-4be2-a28c-406c9bc01ff1",
   "metadata": {},
   "source": [
    "**Objectives**:\n",
    "- List of popular languages for Data Science\n",
    "- List of commonly used libraries for Data Science\n",
    "- List of some popular Data Science tools\n",
    "- Examples of arithmetic expressions in Python"
   ]
  },
  {
   "cell_type": "markdown",
   "id": "180509fe-d887-4f47-8915-26f269e3dabf",
   "metadata": {},
   "source": [
    "Some of the popular languages that Data Scientists use are:\n",
    "\n",
    "1. Python\n",
    "2. R\n",
    "3. Java\n",
    "4. C++\n",
    "5. C\n",
    "6. Scala\n",
    "7. Julia\n",
    "8. SQL"
   ]
  },
  {
   "cell_type": "markdown",
   "id": "ae44dc93-33f7-40e1-8283-49a12dd07681",
   "metadata": {},
   "source": [
    "Some of the commonly used libraries used by Data Scientists include:\n",
    "\n",
    "1. Pandas\n",
    "2. NumPy\n",
    "3. SciPy\n",
    "4. Matplotlib"
   ]
  },
  {
   "cell_type": "markdown",
   "id": "c56cce24-bfa7-4f5f-9150-f7390e52d21d",
   "metadata": {},
   "source": [
    "|Data Science Tools| \n",
    "| ------ |\n",
    "| Apache Spark |\n",
    "| Tensor Flow |\n",
    "| Caffe |\n",
    "| Java-ML |"
   ]
  },
  {
   "cell_type": "markdown",
   "id": "d1ae4474-9d0a-480e-8ea1-a0f4a2f394fc",
   "metadata": {},
   "source": [
    "### Below are a few examples of evaluating arithmetic expressions in Python"
   ]
  },
  {
   "cell_type": "code",
   "execution_count": 9,
   "id": "f6549aa0-7318-468c-98bb-c170b905ec8e",
   "metadata": {},
   "outputs": [
    {
     "data": {
      "text/plain": [
       "17"
      ]
     },
     "execution_count": 9,
     "metadata": {},
     "output_type": "execute_result"
    }
   ],
   "source": [
    "# This a simple arithmetic expression to mutiply then add integers\n",
    "(3*4)+5"
   ]
  },
  {
   "cell_type": "code",
   "execution_count": 12,
   "id": "badd0a57-e326-431d-bfa9-1bc440b3e01a",
   "metadata": {},
   "outputs": [
    {
     "data": {
      "text/plain": [
       "3.3333333333333335"
      ]
     },
     "execution_count": 12,
     "metadata": {},
     "output_type": "execute_result"
    }
   ],
   "source": [
    "# This will convert 200 minutes to hours by diving by 60\n",
    "200/60"
   ]
  },
  {
   "cell_type": "markdown",
   "id": "6ab3343b-c042-4964-bcfa-61cbd54d745a",
   "metadata": {},
   "source": [
    "## Author\n",
    "Gianluca Giulini"
   ]
  }
 ],
 "metadata": {
  "kernelspec": {
   "display_name": "Python 3 (ipykernel)",
   "language": "python",
   "name": "python3"
  },
  "language_info": {
   "codemirror_mode": {
    "name": "ipython",
    "version": 3
   },
   "file_extension": ".py",
   "mimetype": "text/x-python",
   "name": "python",
   "nbconvert_exporter": "python",
   "pygments_lexer": "ipython3",
   "version": "3.11.8"
  }
 },
 "nbformat": 4,
 "nbformat_minor": 5
}
